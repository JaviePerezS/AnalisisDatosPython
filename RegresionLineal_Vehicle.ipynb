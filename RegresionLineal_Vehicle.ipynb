{
 "cells": [
  {
   "cell_type": "markdown",
   "id": "1c42ef00",
   "metadata": {},
   "source": [
    "1. ANALISIS EXPLORATORIO"
   ]
  },
  {
   "cell_type": "markdown",
   "id": "c6610e55-6402-43e4-a459-b88b42b60f7b",
   "metadata": {},
   "source": [
    "Importamos las librerias necesarias"
   ]
  },
  {
   "cell_type": "code",
   "execution_count": 31,
   "id": "5390e220-a3ef-4152-ac0e-776a993e1857",
   "metadata": {},
   "outputs": [],
   "source": [
    "import pandas as pd\n",
    "import numpy as np\n",
    "import matplotlib.pyplot as plt\n",
    "from sklearn.linear_model import LinearRegression\n",
    "from sklearn.metrics import mean_squared_error, mean_absolute_error, r2_score"
   ]
  },
  {
   "cell_type": "markdown",
   "id": "a26e09b8-23e9-4045-beb6-d0a3ce0d15c6",
   "metadata": {},
   "source": [
    "Cargamos los csv del dataset vehicle"
   ]
  },
  {
   "cell_type": "code",
   "execution_count": 32,
   "id": "cd560129-2d3f-465f-92b9-033e55a5fcbf",
   "metadata": {},
   "outputs": [],
   "source": [
    "\n",
    "car_data = pd.read_csv(r'C:\\Users\\fjavi\\AnalisisDatos\\car data.csv')\n",
    "car_dekho = pd.read_csv(r'C:\\Users\\fjavi\\AnalisisDatos\\CAR DETAILS FROM CAR DEKHO.csv')\n",
    "car_details_v3 = pd.read_csv(r'C:\\Users\\fjavi\\AnalisisDatos\\Car details v3.csv')\n",
    "car_details_v4 = pd.read_csv(r'C:\\Users\\fjavi\\AnalisisDatos\\car details v4.csv')\n"
   ]
  },
  {
   "cell_type": "markdown",
   "id": "69505501-a2c9-467f-a15c-5c5c33fa7b26",
   "metadata": {},
   "source": [
    "Analisis de Dataset vehicle: car data.csv"
   ]
  },
  {
   "cell_type": "code",
   "execution_count": 33,
   "id": "90996b44-b2f3-4a31-ad3b-9c9c57426abd",
   "metadata": {
    "scrolled": true
   },
   "outputs": [
    {
     "name": "stdout",
     "output_type": "stream",
     "text": [
      "\n",
      "Info car data.csv\n",
      "  Car_Name  Year  Selling_Price  Present_Price  Kms_Driven Fuel_Type  \\\n",
      "0     ritz  2014           3.35           5.59       27000    Petrol   \n",
      "1      sx4  2013           4.75           9.54       43000    Diesel   \n",
      "2     ciaz  2017           7.25           9.85        6900    Petrol   \n",
      "3  wagon r  2011           2.85           4.15        5200    Petrol   \n",
      "4    swift  2014           4.60           6.87       42450    Diesel   \n",
      "\n",
      "  Seller_Type Transmission  Owner  \n",
      "0      Dealer       Manual      0  \n",
      "1      Dealer       Manual      0  \n",
      "2      Dealer       Manual      0  \n",
      "3      Dealer       Manual      0  \n",
      "4      Dealer       Manual      0  \n",
      "<class 'pandas.core.frame.DataFrame'>\n",
      "RangeIndex: 301 entries, 0 to 300\n",
      "Data columns (total 9 columns):\n",
      " #   Column         Non-Null Count  Dtype  \n",
      "---  ------         --------------  -----  \n",
      " 0   Car_Name       301 non-null    object \n",
      " 1   Year           301 non-null    int64  \n",
      " 2   Selling_Price  301 non-null    float64\n",
      " 3   Present_Price  301 non-null    float64\n",
      " 4   Kms_Driven     301 non-null    int64  \n",
      " 5   Fuel_Type      301 non-null    object \n",
      " 6   Seller_Type    301 non-null    object \n",
      " 7   Transmission   301 non-null    object \n",
      " 8   Owner          301 non-null    int64  \n",
      "dtypes: float64(2), int64(3), object(4)\n",
      "memory usage: 21.3+ KB\n",
      "None\n",
      "              Year  Selling_Price  Present_Price     Kms_Driven       Owner\n",
      "count   301.000000     301.000000     301.000000     301.000000  301.000000\n",
      "mean   2013.627907       4.661296       7.628472   36947.205980    0.043189\n",
      "std       2.891554       5.082812       8.644115   38886.883882    0.247915\n",
      "min    2003.000000       0.100000       0.320000     500.000000    0.000000\n",
      "25%    2012.000000       0.900000       1.200000   15000.000000    0.000000\n",
      "50%    2014.000000       3.600000       6.400000   32000.000000    0.000000\n",
      "75%    2016.000000       6.000000       9.900000   48767.000000    0.000000\n",
      "max    2018.000000      35.000000      92.600000  500000.000000    3.000000\n"
     ]
    }
   ],
   "source": [
    "\n",
    "print(\"\\nInfo car data.csv\")\n",
    "print(car_data.head())\n",
    "print(car_data.info())\n",
    "print(car_data.describe())\n"
   ]
  },
  {
   "cell_type": "markdown",
   "id": "b8bc6e18",
   "metadata": {},
   "source": [
    "Analisis de Dataset vehicle: CAR DETAILS FROM CAR DEKHO.csv"
   ]
  },
  {
   "cell_type": "code",
   "execution_count": 34,
   "id": "842bb154-1152-4b9f-af24-28d59999406d",
   "metadata": {
    "scrolled": true
   },
   "outputs": [
    {
     "name": "stdout",
     "output_type": "stream",
     "text": [
      "\n",
      "Info CAR DETAILS FROM CAR DEKHO.csv\n",
      "                       name  year  selling_price  km_driven    fuel  \\\n",
      "0             Maruti 800 AC  2007          60000      70000  Petrol   \n",
      "1  Maruti Wagon R LXI Minor  2007         135000      50000  Petrol   \n",
      "2      Hyundai Verna 1.6 SX  2012         600000     100000  Diesel   \n",
      "3    Datsun RediGO T Option  2017         250000      46000  Petrol   \n",
      "4     Honda Amaze VX i-DTEC  2014         450000     141000  Diesel   \n",
      "\n",
      "  seller_type transmission         owner  \n",
      "0  Individual       Manual   First Owner  \n",
      "1  Individual       Manual   First Owner  \n",
      "2  Individual       Manual   First Owner  \n",
      "3  Individual       Manual   First Owner  \n",
      "4  Individual       Manual  Second Owner  \n",
      "<class 'pandas.core.frame.DataFrame'>\n",
      "RangeIndex: 4340 entries, 0 to 4339\n",
      "Data columns (total 8 columns):\n",
      " #   Column         Non-Null Count  Dtype \n",
      "---  ------         --------------  ----- \n",
      " 0   name           4340 non-null   object\n",
      " 1   year           4340 non-null   int64 \n",
      " 2   selling_price  4340 non-null   int64 \n",
      " 3   km_driven      4340 non-null   int64 \n",
      " 4   fuel           4340 non-null   object\n",
      " 5   seller_type    4340 non-null   object\n",
      " 6   transmission   4340 non-null   object\n",
      " 7   owner          4340 non-null   object\n",
      "dtypes: int64(3), object(5)\n",
      "memory usage: 271.4+ KB\n",
      "None\n",
      "              year  selling_price      km_driven\n",
      "count  4340.000000   4.340000e+03    4340.000000\n",
      "mean   2013.090783   5.041273e+05   66215.777419\n",
      "std       4.215344   5.785487e+05   46644.102194\n",
      "min    1992.000000   2.000000e+04       1.000000\n",
      "25%    2011.000000   2.087498e+05   35000.000000\n",
      "50%    2014.000000   3.500000e+05   60000.000000\n",
      "75%    2016.000000   6.000000e+05   90000.000000\n",
      "max    2020.000000   8.900000e+06  806599.000000\n"
     ]
    }
   ],
   "source": [
    "print(\"\\nInfo CAR DETAILS FROM CAR DEKHO.csv\")\n",
    "print(car_dekho.head())\n",
    "print(car_dekho.info())\n",
    "print(car_dekho.describe())"
   ]
  },
  {
   "cell_type": "markdown",
   "id": "38353361",
   "metadata": {},
   "source": [
    "Analisis de Dataset vehicle: Car details v3.csv"
   ]
  },
  {
   "cell_type": "code",
   "execution_count": 35,
   "id": "3a168db9-ece4-43af-ba03-01deefd31a84",
   "metadata": {},
   "outputs": [
    {
     "name": "stdout",
     "output_type": "stream",
     "text": [
      "\n",
      "Info Car details v3.csv\n",
      "                           name  year  selling_price  km_driven    fuel  \\\n",
      "0        Maruti Swift Dzire VDI  2014         450000     145500  Diesel   \n",
      "1  Skoda Rapid 1.5 TDI Ambition  2014         370000     120000  Diesel   \n",
      "2      Honda City 2017-2020 EXi  2006         158000     140000  Petrol   \n",
      "3     Hyundai i20 Sportz Diesel  2010         225000     127000  Diesel   \n",
      "4        Maruti Swift VXI BSIII  2007         130000     120000  Petrol   \n",
      "\n",
      "  seller_type transmission         owner     mileage   engine   max_power  \\\n",
      "0  Individual       Manual   First Owner   23.4 kmpl  1248 CC      74 bhp   \n",
      "1  Individual       Manual  Second Owner  21.14 kmpl  1498 CC  103.52 bhp   \n",
      "2  Individual       Manual   Third Owner   17.7 kmpl  1497 CC      78 bhp   \n",
      "3  Individual       Manual   First Owner   23.0 kmpl  1396 CC      90 bhp   \n",
      "4  Individual       Manual   First Owner   16.1 kmpl  1298 CC    88.2 bhp   \n",
      "\n",
      "                     torque  seats  \n",
      "0            190Nm@ 2000rpm    5.0  \n",
      "1       250Nm@ 1500-2500rpm    5.0  \n",
      "2     12.7@ 2,700(kgm@ rpm)    5.0  \n",
      "3  22.4 kgm at 1750-2750rpm    5.0  \n",
      "4     11.5@ 4,500(kgm@ rpm)    5.0  \n",
      "<class 'pandas.core.frame.DataFrame'>\n",
      "RangeIndex: 8128 entries, 0 to 8127\n",
      "Data columns (total 13 columns):\n",
      " #   Column         Non-Null Count  Dtype  \n",
      "---  ------         --------------  -----  \n",
      " 0   name           8128 non-null   object \n",
      " 1   year           8128 non-null   int64  \n",
      " 2   selling_price  8128 non-null   int64  \n",
      " 3   km_driven      8128 non-null   int64  \n",
      " 4   fuel           8128 non-null   object \n",
      " 5   seller_type    8128 non-null   object \n",
      " 6   transmission   8128 non-null   object \n",
      " 7   owner          8128 non-null   object \n",
      " 8   mileage        7907 non-null   object \n",
      " 9   engine         7907 non-null   object \n",
      " 10  max_power      7913 non-null   object \n",
      " 11  torque         7906 non-null   object \n",
      " 12  seats          7907 non-null   float64\n",
      "dtypes: float64(1), int64(3), object(9)\n",
      "memory usage: 825.6+ KB\n",
      "None\n",
      "              year  selling_price     km_driven        seats\n",
      "count  8128.000000   8.128000e+03  8.128000e+03  7907.000000\n",
      "mean   2013.804011   6.382718e+05  6.981951e+04     5.416719\n",
      "std       4.044249   8.062534e+05  5.655055e+04     0.959588\n",
      "min    1983.000000   2.999900e+04  1.000000e+00     2.000000\n",
      "25%    2011.000000   2.549990e+05  3.500000e+04     5.000000\n",
      "50%    2015.000000   4.500000e+05  6.000000e+04     5.000000\n",
      "75%    2017.000000   6.750000e+05  9.800000e+04     5.000000\n",
      "max    2020.000000   1.000000e+07  2.360457e+06    14.000000\n"
     ]
    }
   ],
   "source": [
    "print(\"\\nInfo Car details v3.csv\")\n",
    "print(car_details_v3.head())\n",
    "print(car_details_v3.info())\n",
    "print(car_details_v3.describe())"
   ]
  },
  {
   "cell_type": "markdown",
   "id": "b503236a",
   "metadata": {},
   "source": [
    "Analisis de Dataset vehicle: Car details v4.csv"
   ]
  },
  {
   "cell_type": "code",
   "execution_count": 36,
   "id": "07cd2a2b-5926-4a4f-aa60-0c61f914f2b1",
   "metadata": {},
   "outputs": [
    {
     "name": "stdout",
     "output_type": "stream",
     "text": [
      "\n",
      "Info Car details v4.csv\n",
      "            Make                            Model    Price  Year  Kilometer  \\\n",
      "0          Honda              Amaze 1.2 VX i-VTEC   505000  2017      87150   \n",
      "1  Maruti Suzuki                  Swift DZire VDI   450000  2014      75000   \n",
      "2        Hyundai             i10 Magna 1.2 Kappa2   220000  2011      67000   \n",
      "3         Toyota                         Glanza G   799000  2019      37500   \n",
      "4         Toyota  Innova 2.4 VX 7 STR [2016-2020]  1950000  2018      69000   \n",
      "\n",
      "  Fuel Type Transmission   Location   Color   Owner Seller Type   Engine  \\\n",
      "0    Petrol       Manual       Pune    Grey   First   Corporate  1198 cc   \n",
      "1    Diesel       Manual   Ludhiana   White  Second  Individual  1248 cc   \n",
      "2    Petrol       Manual    Lucknow  Maroon   First  Individual  1197 cc   \n",
      "3    Petrol       Manual  Mangalore     Red   First  Individual  1197 cc   \n",
      "4    Diesel       Manual     Mumbai    Grey   First  Individual  2393 cc   \n",
      "\n",
      "            Max Power              Max Torque Drivetrain  Length   Width  \\\n",
      "0   87 bhp @ 6000 rpm       109 Nm @ 4500 rpm        FWD  3990.0  1680.0   \n",
      "1   74 bhp @ 4000 rpm       190 Nm @ 2000 rpm        FWD  3995.0  1695.0   \n",
      "2   79 bhp @ 6000 rpm  112.7619 Nm @ 4000 rpm        FWD  3585.0  1595.0   \n",
      "3   82 bhp @ 6000 rpm       113 Nm @ 4200 rpm        FWD  3995.0  1745.0   \n",
      "4  148 bhp @ 3400 rpm       343 Nm @ 1400 rpm        RWD  4735.0  1830.0   \n",
      "\n",
      "   Height  Seating Capacity  Fuel Tank Capacity  \n",
      "0  1505.0               5.0                35.0  \n",
      "1  1555.0               5.0                42.0  \n",
      "2  1550.0               5.0                35.0  \n",
      "3  1510.0               5.0                37.0  \n",
      "4  1795.0               7.0                55.0  \n",
      "<class 'pandas.core.frame.DataFrame'>\n",
      "RangeIndex: 2059 entries, 0 to 2058\n",
      "Data columns (total 20 columns):\n",
      " #   Column              Non-Null Count  Dtype  \n",
      "---  ------              --------------  -----  \n",
      " 0   Make                2059 non-null   object \n",
      " 1   Model               2059 non-null   object \n",
      " 2   Price               2059 non-null   int64  \n",
      " 3   Year                2059 non-null   int64  \n",
      " 4   Kilometer           2059 non-null   int64  \n",
      " 5   Fuel Type           2059 non-null   object \n",
      " 6   Transmission        2059 non-null   object \n",
      " 7   Location            2059 non-null   object \n",
      " 8   Color               2059 non-null   object \n",
      " 9   Owner               2059 non-null   object \n",
      " 10  Seller Type         2059 non-null   object \n",
      " 11  Engine              1979 non-null   object \n",
      " 12  Max Power           1979 non-null   object \n",
      " 13  Max Torque          1979 non-null   object \n",
      " 14  Drivetrain          1923 non-null   object \n",
      " 15  Length              1995 non-null   float64\n",
      " 16  Width               1995 non-null   float64\n",
      " 17  Height              1995 non-null   float64\n",
      " 18  Seating Capacity    1995 non-null   float64\n",
      " 19  Fuel Tank Capacity  1946 non-null   float64\n",
      "dtypes: float64(5), int64(3), object(12)\n",
      "memory usage: 321.8+ KB\n",
      "None\n",
      "              Price         Year     Kilometer       Length        Width  \\\n",
      "count  2.059000e+03  2059.000000  2.059000e+03  1995.000000  1995.000000   \n",
      "mean   1.702992e+06  2016.425449  5.422471e+04  4280.860652  1767.991980   \n",
      "std    2.419881e+06     3.363564  5.736172e+04   442.458507   135.265825   \n",
      "min    4.900000e+04  1988.000000  0.000000e+00  3099.000000  1475.000000   \n",
      "25%    4.849990e+05  2014.000000  2.900000e+04  3985.000000  1695.000000   \n",
      "50%    8.250000e+05  2017.000000  5.000000e+04  4370.000000  1770.000000   \n",
      "75%    1.925000e+06  2019.000000  7.200000e+04  4629.000000  1831.500000   \n",
      "max    3.500000e+07  2022.000000  2.000000e+06  5569.000000  2220.000000   \n",
      "\n",
      "            Height  Seating Capacity  Fuel Tank Capacity  \n",
      "count  1995.000000       1995.000000         1946.000000  \n",
      "mean   1591.735338          5.306266           52.002210  \n",
      "std     136.073956          0.822170           15.110198  \n",
      "min    1165.000000          2.000000           15.000000  \n",
      "25%    1485.000000          5.000000           41.250000  \n",
      "50%    1545.000000          5.000000           50.000000  \n",
      "75%    1675.000000          5.000000           60.000000  \n",
      "max    1995.000000          8.000000          105.000000  \n"
     ]
    }
   ],
   "source": [
    "print(\"\\nInfo Car details v4.csv\")\n",
    "print(car_details_v4.head())\n",
    "print(car_details_v4.info())\n",
    "print(car_details_v4.describe())"
   ]
  },
  {
   "cell_type": "markdown",
   "id": "3935eafe-cff9-46f8-95dd-ecd9766914fa",
   "metadata": {},
   "source": [
    "2. REPROCESAMOS LOS DATOS"
   ]
  },
  {
   "cell_type": "code",
   "execution_count": null,
   "id": "7bce0ada-17f3-4fd3-9963-c85f458faca9",
   "metadata": {},
   "outputs": [],
   "source": [
    "def preprocess_data(data):\n",
    " \n",
    "    data = data.drop_duplicates()  # Eliminar duplicados\n",
    "    data = data.dropna()  # Eliminar valores faltantes\n",
    "    return data\n",
    "\n",
    "car_data_clean = preprocess_data(car_data)\n",
    "car_dekho_clean = preprocess_data(car_dekho)\n",
    "car_details_v3_clean = preprocess_data(car_details_v3)\n",
    "car_details_v4_clean = preprocess_data(car_details_v4)\n"
   ]
  },
  {
   "cell_type": "markdown",
   "id": "661020e1-6aa8-4cef-be24-e3c1a86557fc",
   "metadata": {},
   "source": [
    "Transformamos los datos para categorizarlos"
   ]
  },
  {
   "cell_type": "code",
   "execution_count": 38,
   "id": "fbc7d6b2-d7bb-481f-b849-f5eabe2e08c8",
   "metadata": {},
   "outputs": [],
   "source": [
    "from sklearn.preprocessing import StandardScaler, LabelEncoder\n",
    "\n",
    "def encode_and_scale(data):\n",
    "   \n",
    "    # Codificar variables categóricas\n",
    "    categorical_columns = data.select_dtypes(include=['object']).columns\n",
    "    for col in categorical_columns:\n",
    "        data[col] = LabelEncoder().fit_transform(data[col])\n",
    "\n",
    "    # Escalar variables numéricas\n",
    "    numeric_columns = data.select_dtypes(include=['float64', 'int64']).columns\n",
    "    data[numeric_columns] = StandardScaler().fit_transform(data[numeric_columns])\n",
    "    \n",
    "    return data\n",
    "\n",
    "car_data_transformed = encode_and_scale(car_data_clean)\n",
    "car_dekho_transformed = encode_and_scale(car_dekho_clean)\n",
    "car_details_v3_transformed = encode_and_scale(car_details_v3_clean)\n",
    "car_details_v4_transformed = encode_and_scale(car_details_v4_clean)\n"
   ]
  },
  {
   "cell_type": "markdown",
   "id": "46034821-4b84-4ccd-b8f2-f6e506559b26",
   "metadata": {},
   "source": [
    "3. SELECCIONAMOS LAS CARACTERÍSTICAS MÁS RELEVANTES PARA ENTRENAR EL MODELO UTILIZANDO SELECCIÓN DE CARACTERÍSTICAS.\n"
   ]
  },
  {
   "cell_type": "code",
   "execution_count": 39,
   "id": "b02b4f81-8b5e-44a2-a2ef-79354e3ae327",
   "metadata": {},
   "outputs": [
    {
     "name": "stdout",
     "output_type": "stream",
     "text": [
      "Características seleccionadas: ['Car_Name', 'Year', 'Present_Price', 'Kms_Driven', 'Fuel_Type', 'Seller_Type', 'Transmission', 'Owner']\n"
     ]
    }
   ],
   "source": [
    "from sklearn.linear_model import LinearRegression\n",
    "from sklearn.feature_selection import RFE\n",
    "\n",
    "def select_features(data, target_variable):\n",
    "    \n",
    "    X = data.drop(columns=[target_variable])\n",
    "    y = data[target_variable]\n",
    "\n",
    "    # Aplicar RFE para seleccionar las características\n",
    "    model = LinearRegression()\n",
    "    selector = RFE(model, n_features_to_select=8) #Seleccionamos la cantidad ded columnas para categorizarlas (8)\n",
    "    selector.fit(X, y)\n",
    "    \n",
    "    # Seleccionar las columnas relevantes\n",
    "    selected_columns = X.columns[selector.support_]\n",
    "    print(f\"Características seleccionadas: {list(selected_columns)}\")\n",
    "    \n",
    "    return data[selected_columns], y\n",
    "\n",
    "# Usar la función en los datasets\n",
    "X_car_data, y_car_data = select_features(car_data_transformed, target_variable='Selling_Price')\n"
   ]
  },
  {
   "cell_type": "markdown",
   "id": "ce129496",
   "metadata": {},
   "source": [
    "4. DIVIDIMOS EL DATASET EN TRAIN Y TEST (Divide los datos en conjuntos de entrenamiento y prueba (80%-20%).)\n"
   ]
  },
  {
   "cell_type": "code",
   "execution_count": 48,
   "id": "9c55ffe7-3d14-40ab-93af-75ff5b408fe9",
   "metadata": {},
   "outputs": [],
   "source": [
    "from sklearn.model_selection import train_test_split\n",
    "\n",
    "def split_data(X, y):\n",
    "  \n",
    "    X_train, X_test, y_train, y_test = train_test_split(X, y, test_size=0.2, random_state=42)\n",
    "    return X_train, X_test, y_train, y_test\n",
    "\n",
    "X_train_car_data, X_test_car_data, y_train_car_data, y_test_car_data = split_data(X_car_data, y_car_data)\n"
   ]
  },
  {
   "cell_type": "markdown",
   "id": "9743b55b-1f7b-4c05-a578-4b459913c4a7",
   "metadata": {},
   "source": [
    "5. ENTRENAMOS EL MODELO CONFIGURANDO HIPERPARÁMETROS"
   ]
  },
  {
   "cell_type": "code",
   "execution_count": 49,
   "id": "583ebf4e-98cb-4fb2-9571-07c125163c2d",
   "metadata": {},
   "outputs": [],
   "source": [
    "def train_model(X_train, y_train):\n",
    "    \n",
    "#Entrena un modelo de regresión lineal.\n",
    "  \n",
    "    model = LinearRegression()\n",
    "    model.fit(X_train, y_train)\n",
    "    return model\n",
    "\n",
    "# Entrenar el modelo con el conjunto de entrenamiento\n",
    "model_car_data = train_model(X_train_car_data, y_train_car_data)\n"
   ]
  },
  {
   "cell_type": "markdown",
   "id": "8f9facea-5b9b-4698-9546-b5e6fe604e88",
   "metadata": {},
   "source": [
    "\n",
    "6. EVALUAMOS EL DESEMPEÑO DEL MODELO\n"
   ]
  },
  {
   "cell_type": "code",
   "execution_count": 50,
   "id": "0d5a88f7-1264-4372-997c-32b04eba5a75",
   "metadata": {},
   "outputs": [
    {
     "name": "stdout",
     "output_type": "stream",
     "text": [
      "RMSE: 0.5249602006853701\n",
      "R^2 Score: 0.7352559076589604\n"
     ]
    },
    {
     "name": "stderr",
     "output_type": "stream",
     "text": [
      "c:\\Users\\fjavi\\anaconda3\\Lib\\site-packages\\sklearn\\metrics\\_regression.py:492: FutureWarning: 'squared' is deprecated in version 1.4 and will be removed in 1.6. To calculate the root mean squared error, use the function'root_mean_squared_error'.\n",
      "  warnings.warn(\n"
     ]
    }
   ],
   "source": [
    "from sklearn.metrics import mean_squared_error, r2_score\n",
    "\n",
    "def evaluate_model(model, X_test, y_test):\n",
    "#Evaluamos el modelo utilizando el RMSE y el R^2.\n",
    "    \n",
    "    predictions = model.predict(X_test)\n",
    "    rmse = mean_squared_error(y_test, predictions, squared=False)\n",
    "    r2 = r2_score(y_test, predictions)\n",
    "    print(f\"RMSE: {rmse}\")\n",
    "    print(f\"R^2 Score: {r2}\")\n",
    "\n",
    "# Evaluar el modelo en el conjunto de prueba\n",
    "evaluate_model(model_car_data, X_test_car_data, y_test_car_data)\n"
   ]
  },
  {
   "cell_type": "markdown",
   "id": "be9f65b6-1de0-466f-85e3-6fbf17fc070c",
   "metadata": {},
   "source": [
    "7. GRAFICAMOS LA LINEA DE REGRESION LINEAL"
   ]
  },
  {
   "cell_type": "code",
   "execution_count": 56,
   "id": "7a80d81b-d32b-46be-94af-5a5eddec7423",
   "metadata": {},
   "outputs": [
    {
     "data": {
      "image/png": "[encoded data removed]",
      "text/plain": [
       "<Figure size 800x600 with 1 Axes>"
      ]
     },
     "metadata": {},
     "output_type": "display_data"
    }
   ],
   "source": [
    "import matplotlib.pyplot as plt\n",
    "\n",
    "def plot_results(y_test, predictions, title=\"Valor Predicho vs Valores Reales\"):\n",
    "   \n",
    "    plt.figure(figsize=(8, 6))\n",
    "    plt.scatter(y_test, predictions, alpha=0.6)\n",
    "    plt.xlabel(\"Valores Reales\")\n",
    "    plt.ylabel(\"Valor Predicho\")\n",
    "    plt.title(title)\n",
    "    plt.plot([y_test.min(), y_test.max()], [y_test.min(), y_test.max()], '--', color='red')\n",
    "    plt.grid()\n",
    "    plt.show()\n",
    "\n",
    "\n",
    "# Genera el grafico para los datos solicitados\n",
    "predictions = model_car_data.predict(X_test_car_data)\n",
    "plot_results(y_test_car_data, predictions)\n"
   ]
  },
  {
   "cell_type": "markdown",
   "id": "95a12600-1506-49a5-878c-272d605ef884",
   "metadata": {},
   "source": [
    "Observamos los coeficientes del modelo de regresion lineal"
   ]
  },
  {
   "cell_type": "code",
   "execution_count": 46,
   "id": "297cd8ba-31af-49f1-9cb3-3a07d2446862",
   "metadata": {},
   "outputs": [
    {
     "name": "stdout",
     "output_type": "stream",
     "text": [
      "Coeficientes del modelo:\n",
      "         Feature  Coefficient\n",
      "0       Car_Name     0.001077\n",
      "1           Year     0.200298\n",
      "2  Present_Price     0.757456\n",
      "3     Kms_Driven    -0.073053\n",
      "4      Fuel_Type    -0.239369\n",
      "5    Seller_Type    -0.214048\n",
      "6   Transmission    -0.317807\n",
      "7          Owner     0.038306\n"
     ]
    }
   ],
   "source": [
    "def mostrar_coeficientes(model, feature_names):\n",
    "   \n",
    "    coef_df = pd.DataFrame({\n",
    "        'Feature': feature_names,\n",
    "        'Coefficient': model.coef_\n",
    "    })\n",
    "    print(\"Coeficientes del modelo:\")\n",
    "    print(coef_df)\n",
    "\n",
    "# Llamar a la función para mostrar los coeficientes del modelo con el conjunto de datos de 'car data'\n",
    "mostrar_coeficientes(model_car_data, X_train_car_data.columns)\n"
   ]
  }
 ],
 "metadata": {
  "kernelspec": {
   "display_name": "base",
   "language": "python",
   "name": "python3"
  },
  "language_info": {
   "codemirror_mode": {
    "name": "ipython",
    "version": 3
   },
   "file_extension": ".py",
   "mimetype": "text/x-python",
   "name": "python",
   "nbconvert_exporter": "python",
   "pygments_lexer": "ipython3",
   "version": "3.12.7"
  }
 },
 "nbformat": 4,
 "nbformat_minor": 5
}
